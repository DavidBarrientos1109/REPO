{
 "cells": [
  {
   "cell_type": "markdown",
   "id": "6f07e234",
   "metadata": {},
   "source": [
    "## ARCHIVO PRUEBA"
   ]
  },
  {
   "cell_type": "code",
   "execution_count": 1,
   "id": "716d8b1d",
   "metadata": {},
   "outputs": [],
   "source": [
    "def f(x,y):\n",
    "    res=x**y-2*y-2*x\n",
    "    return(res)"
   ]
  },
  {
   "cell_type": "code",
   "execution_count": 3,
   "id": "a4c57f73",
   "metadata": {},
   "outputs": [
    {
     "name": "stdout",
     "output_type": "stream",
     "text": [
      "15603\n",
      "-17.999999912208505\n",
      "13552527156068805425093160010874271392822265503\n"
     ]
    }
   ],
   "source": [
    "print(f(5,6))\n",
    "print(f(15,-6))\n",
    "print(f(-5,66))"
   ]
  },
  {
   "cell_type": "code",
   "execution_count": 1,
   "id": "94cb4e75",
   "metadata": {},
   "outputs": [],
   "source": [
    "def saludo(primer_nombre,apellido):\n",
    "    print(f\"Hola, {primer_nombre} {apellido}\")"
   ]
  },
  {
   "cell_type": "code",
   "execution_count": 2,
   "id": "4d5179d4",
   "metadata": {},
   "outputs": [
    {
     "name": "stdout",
     "output_type": "stream",
     "text": [
      "Hola, Jhon Jhones\n"
     ]
    }
   ],
   "source": [
    "saludo(\"Jhon\",\"Jhones\")"
   ]
  },
  {
   "cell_type": "code",
   "execution_count": 3,
   "id": "158a3dc2",
   "metadata": {},
   "outputs": [
    {
     "name": "stdout",
     "output_type": "stream",
     "text": [
      "He encontrado el texto\n"
     ]
    }
   ],
   "source": [
    "import re\n",
    "\n",
    "cadena = \"vamos a aprender expresiones regulares\"\n",
    "\n",
    "textoBuscar = \"aprender\"\n",
    "\n",
    "if re.search(textoBuscar, cadena) is not None:\n",
    "\n",
    "    print(\"He encontrado el texto\")\n",
    "\n",
    "else:\n",
    "    print(\"No he encontrado el texto\")"
   ]
  },
  {
   "cell_type": "code",
   "execution_count": null,
   "id": "1a18f57a",
   "metadata": {},
   "outputs": [],
   "source": []
  }
 ],
 "metadata": {
  "kernelspec": {
   "display_name": "Python 3 (ipykernel)",
   "language": "python",
   "name": "python3"
  },
  "language_info": {
   "codemirror_mode": {
    "name": "ipython",
    "version": 3
   },
   "file_extension": ".py",
   "mimetype": "text/x-python",
   "name": "python",
   "nbconvert_exporter": "python",
   "pygments_lexer": "ipython3",
   "version": "3.11.4"
  }
 },
 "nbformat": 4,
 "nbformat_minor": 5
}
